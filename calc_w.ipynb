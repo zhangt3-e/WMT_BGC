{
 "cells": [
  {
   "cell_type": "markdown",
   "metadata": {},
   "source": [
    "An attempt to calculate vertical velocity using continuity"
   ]
  },
  {
   "cell_type": "code",
   "execution_count": 83,
   "metadata": {},
   "outputs": [],
   "source": [
    "import xarray as xr\n",
    "import numpy as np\n",
    "from verticalvelocity_xr import calc_w_continuity as calc_w\n",
    "%matplotlib inline"
   ]
  },
  {
   "cell_type": "code",
   "execution_count": 84,
   "metadata": {},
   "outputs": [],
   "source": [
    "# Specify the location of the file\n",
    "rootdir = '/archive/oar.gfdl.cmip6/ESM4/DECK/ESM4_piControl_D/gfdl.ncrc4-intel16-prod-openmp/pp/'\n",
    "datadir = 'ocean_annual_z/av/annual_5yr/'\n",
    "filename = 'ocean_annual_z.0866-0870.ann.nc'"
   ]
  },
  {
   "cell_type": "code",
   "execution_count": 85,
   "metadata": {},
   "outputs": [],
   "source": [
    "ds = xr.open_dataset(rootdir+datadir+filename)"
   ]
  },
  {
   "cell_type": "code",
   "execution_count": 87,
   "metadata": {},
   "outputs": [],
   "source": [
    "w = calc_w(u=ds.uh,v=ds.vh,z=ds.z_i,wrapx=True,wrapy=False)"
   ]
  },
  {
   "cell_type": "code",
   "execution_count": 88,
   "metadata": {},
   "outputs": [
    {
     "data": {
      "text/plain": [
       "<matplotlib.collections.QuadMesh at 0x2b15d42eaa58>"
      ]
     },
     "execution_count": 88,
     "metadata": {},
     "output_type": "execute_result"
    },
    {
     "data": {
      "image/png": "[encoded data removed]",
      "text/plain": [
       "<Figure size 432x288 with 2 Axes>"
      ]
     },
     "metadata": {
      "needs_background": "light"
     },
     "output_type": "display_data"
    }
   ],
   "source": [
    "w.isel(time=0,z_i=0).plot()"
   ]
  },
  {
   "cell_type": "code",
   "execution_count": 100,
   "metadata": {},
   "outputs": [
    {
     "data": {
      "text/plain": [
       "<xarray.DataArray ()>\n",
       "array(-1.468433)\n",
       "Coordinates:\n",
       "    z_i      float64 0.0\n",
       "    z_i_neg  float64 -0.0"
      ]
     },
     "execution_count": 100,
     "metadata": {},
     "output_type": "execute_result"
    }
   ],
   "source": [
    "w.isel(z_i=0).sum()"
   ]
  },
  {
   "cell_type": "code",
   "execution_count": 90,
   "metadata": {},
   "outputs": [
    {
     "data": {
      "text/plain": [
       "<xarray.DataArray ()>\n",
       "array(-1.760458e+10)"
      ]
     },
     "execution_count": 90,
     "metadata": {},
     "output_type": "execute_result"
    }
   ],
   "source": [
    "w.where(w<0).sum()"
   ]
  },
  {
   "cell_type": "code",
   "execution_count": 81,
   "metadata": {},
   "outputs": [
    {
     "data": {
      "text/plain": [
       "<xarray.Dataset>\n",
       "Dimensions:                            (nv: 2, time: 1, xh: 720, xq: 720, yh: 576, yq: 576, zi: 76, zl: 75)\n",
       "Coordinates:\n",
       "  * xh                                 (xh) float64 -299.8 -299.2 ... 59.75\n",
       "  * yh                                 (yh) float64 -77.91 -77.72 ... 89.89\n",
       "  * zl                                 (zl) float64 1.0 3.0 ... 5.111e+03\n",
       "  * time                               (time) object 0868-07-02 12:00:00\n",
       "  * nv                                 (nv) float64 1.0 2.0\n",
       "  * xq                                 (xq) float64 -299.5 -299.0 ... 59.5 60.0\n",
       "  * yq                                 (yq) float64 -77.82 -77.63 ... 89.79 90.0\n",
       "  * zi                                 (zi) float64 0.0 2.0 ... 6.5e+03\n",
       "Data variables:\n",
       "    volcello                           (time, zl, yh, xh) float32 ...\n",
       "    pbo                                (time, yh, xh) float32 ...\n",
       "    pso                                (time, yh, xh) float32 ...\n",
       "    masscello                          (time, zl, yh, xh) float32 ...\n",
       "    thkcello                           (time, zl, yh, xh) float32 ...\n",
       "    zos                                (time, yh, xh) float32 ...\n",
       "    zossq                              (time, yh, xh) float32 ...\n",
       "    thetao                             (time, zl, yh, xh) float32 ...\n",
       "    tos                                (time, yh, xh) float32 ...\n",
       "    tossq                              (time, yh, xh) float32 ...\n",
       "    tob                                (time, yh, xh) float32 ...\n",
       "    so                                 (time, zl, yh, xh) float32 ...\n",
       "    sos                                (time, yh, xh) float32 ...\n",
       "    sossq                              (time, yh, xh) float32 ...\n",
       "    sob                                (time, yh, xh) float32 ...\n",
       "    mlotst                             (time, yh, xh) float32 ...\n",
       "    mlotstsq                           (time, yh, xh) float32 ...\n",
       "    mlotstmin                          (time, yh, xh) float32 ...\n",
       "    mlotstmax                          (time, yh, xh) float32 ...\n",
       "    umo_2d                             (time, yh, xq) float32 ...\n",
       "    vmo_2d                             (time, yq, xh) float32 ...\n",
       "    prlq                               (time, yh, xh) float32 ...\n",
       "    prsn                               (time, yh, xh) float32 ...\n",
       "    evs                                (time, yh, xh) float32 ...\n",
       "    friver                             (time, yh, xh) float32 ...\n",
       "    ficeberg                           (time, yh, xh) float32 ...\n",
       "    wfo                                (time, yh, xh) float32 ...\n",
       "    net_massout                        (time, yh, xh) float32 ...\n",
       "    net_massin                         (time, yh, xh) float32 ...\n",
       "    sfdsi                              (time, yh, xh) float32 ...\n",
       "    hfrainds                           (time, yh, xh) float32 ...\n",
       "    hfevapds                           (time, yh, xh) float32 ...\n",
       "    hfrunoffds                         (time, yh, xh) float32 ...\n",
       "    hfsnthermds                        (time, yh, xh) float32 ...\n",
       "    hfsifrazil                         (time, yh, xh) float32 ...\n",
       "    hfibthermds                        (time, yh, xh) float32 ...\n",
       "    rlntds                             (time, yh, xh) float32 ...\n",
       "    hflso                              (time, yh, xh) float32 ...\n",
       "    hfsso                              (time, yh, xh) float32 ...\n",
       "    rsntds                             (time, yh, xh) float32 ...\n",
       "    rsdo                               (time, zi, yh, xh) float32 ...\n",
       "    hfds                               (time, yh, xh) float32 ...\n",
       "    net_heat_coupler                   (time, yh, xh) float32 ...\n",
       "    heat_content_massin                (time, yh, xh) float32 ...\n",
       "    heat_content_massout               (time, yh, xh) float32 ...\n",
       "    heat_content_surfwater             (time, yh, xh) float32 ...\n",
       "    heat_content_fprec                 (time, yh, xh) float32 ...\n",
       "    heat_content_cond                  (time, yh, xh) float32 ...\n",
       "    LwLatSens                          (time, yh, xh) float32 ...\n",
       "    Heat_PmE                           (time, yh, xh) float32 ...\n",
       "    nonpenSW                           (time, yh, xh) float32 ...\n",
       "    heat_content_vprec                 (time, yh, xh) float32 ...\n",
       "    tauuo                              (time, yh, xq) float32 ...\n",
       "    tauvo                              (time, yq, xh) float32 ...\n",
       "    ustar                              (time, yh, xh) float32 ...\n",
       "    opottempmint                       (time, yh, xh) float32 ...\n",
       "    somint                             (time, yh, xh) float32 ...\n",
       "    dispkexyfo                         (time, yh, xh) float32 ...\n",
       "    tnkebto                            (time, yh, xh) float32 ...\n",
       "    diftrelo                           (time, yh, xh) float32 ...\n",
       "    e                                  (time, zi, yh, xh) float32 ...\n",
       "    speed                              (time, yh, xh) float32 ...\n",
       "    KE                                 (time, zl, yh, xh) float32 ...\n",
       "    mass_wt                            (time, yh, xh) float32 ...\n",
       "    temp_layer_ave                     (time, zl) float32 ...\n",
       "    salt_layer_ave                     (time, zl) float32 ...\n",
       "    TKE_tidal                          (time, yh, xh) float32 ...\n",
       "    TKE_itidal                         (time, yh, xh) float32 ...\n",
       "    MLD_003                            (time, yh, xh) float32 ...\n",
       "    MLD_003_min                        (time, yh, xh) float32 ...\n",
       "    MLD_003_max                        (time, yh, xh) float32 ...\n",
       "    MSTAR                              (time, yh, xh) float32 ...\n",
       "    MEKE_Ue                            (time, yh, xh) float32 ...\n",
       "    MEKE_Le                            (time, yh, xh) float32 ...\n",
       "    MEKE_KH                            (time, yh, xh) float32 ...\n",
       "    subML_N2                           (time, yh, xh) float32 ...\n",
       "    tos_max                            (time, yh, xh) float32 ...\n",
       "    tos_min                            (time, yh, xh) float32 ...\n",
       "    diabatic_diff_temp_tendency        (time, zl, yh, xh) float32 ...\n",
       "    diabatic_diff_saln_tendency        (time, zl, yh, xh) float32 ...\n",
       "    T_dfxy_conc_tendency               (time, zl, yh, xh) float32 ...\n",
       "    S_dfxy_conc_tendency               (time, zl, yh, xh) float32 ...\n",
       "    opottemppmdiff_2d                  (time, yh, xh) float32 ...\n",
       "    osaltpmdiff_2d                     (time, yh, xh) float32 ...\n",
       "    T_tendency                         (time, zl, yh, xh) float32 ...\n",
       "    S_tendency                         (time, zl, yh, xh) float32 ...\n",
       "    opottemptend_2d                    (time, yh, xh) float32 ...\n",
       "    osalttend_2d                       (time, yh, xh) float32 ...\n",
       "    T_advection_xy_2d                  (time, yh, xh) float32 ...\n",
       "    S_advection_xy_2d                  (time, yh, xh) float32 ...\n",
       "    T_tendency_vert_remap              (time, zl, yh, xh) float32 ...\n",
       "    S_tendency_vert_remap              (time, zl, yh, xh) float32 ...\n",
       "    Th_tendency_vert_remap_2d          (time, yh, xh) float32 ...\n",
       "    Sh_tendency_vert_remap_2d          (time, yh, xh) float32 ...\n",
       "    frazil_heat_tendency_2d            (time, yh, xh) float32 ...\n",
       "    boundary_forcing_heat_tendency_2d  (time, yh, xh) float32 ...\n",
       "    boundary_forcing_salt_tendency_2d  (time, yh, xh) float32 ...\n",
       "    time_bnds                          (time, nv) object ...\n",
       "    average_T1                         (time) object ...\n",
       "    average_T2                         (time) object ...\n",
       "    average_DT                         (time) timedelta64[ns] ...\n",
       "Attributes:\n",
       "    filename:          ocean_annual.0866-0870.ann.nc\n",
       "    title:             ESM4_piControl_D\n",
       "    associated_files:  areacello: 08660101.ocean_static.nc\n",
       "    grid_type:         regular\n",
       "    grid_tile:         N/A\n",
       "    comment:           FMS time averaging, version 3.0, precision=double"
      ]
     },
     "execution_count": 81,
     "metadata": {},
     "output_type": "execute_result"
    }
   ],
   "source": [
    "ds"
   ]
  },
  {
   "cell_type": "code",
   "execution_count": null,
   "metadata": {},
   "outputs": [],
   "source": []
  }
 ],
 "metadata": {
  "kernelspec": {
   "display_name": "Python 3",
   "language": "python",
   "name": "python3"
  },
  "language_info": {
   "codemirror_mode": {
    "name": "ipython",
    "version": 3
   },
   "file_extension": ".py",
   "mimetype": "text/x-python",
   "name": "python",
   "nbconvert_exporter": "python",
   "pygments_lexer": "ipython3",
   "version": "3.7.3"
  }
 },
 "nbformat": 4,
 "nbformat_minor": 2
}
